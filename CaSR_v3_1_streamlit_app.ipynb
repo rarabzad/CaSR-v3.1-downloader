{
  "nbformat": 4,
  "nbformat_minor": 0,
  "metadata": {
    "colab": {
      "provenance": [],
      "authorship_tag": "ABX9TyMsDPSmNFCXUvlkG6kWROzN",
      "include_colab_link": true
    },
    "kernelspec": {
      "name": "python3",
      "display_name": "Python 3"
    },
    "language_info": {
      "name": "python"
    }
  },
  "cells": [
    {
      "cell_type": "markdown",
      "metadata": {
        "id": "view-in-github",
        "colab_type": "text"
      },
      "source": [
        "<a href=\"https://colab.research.google.com/github/rarabzad/CaSR-v3.1-downloader/blob/main/CaSR_v3_1_streamlit_app.ipynb\" target=\"_parent\"><img src=\"https://colab.research.google.com/assets/colab-badge.svg\" alt=\"Open In Colab\"/></a>"
      ]
    },
    {
      "cell_type": "markdown",
      "source": [
        "\n",
        "## 🚀 Run the CaSR v3.1 Downloader Streamlit App on Google Colab\n",
        "\n",
        "You can easily run the **CaSR v3.1 Downloader** Streamlit web app directly from **Google Colab**, without needing to host it locally or deploy it permanently.\n",
        "\n",
        "This setup uses **Cloudflare Tunnel** to expose your Colab environment securely to the web, allowing you to access your Streamlit app in a browser tab.\n",
        "\n",
        "---\n",
        "\n",
        "1. Open a new notebook in **Google Colab**:\n",
        "   👉 [https://colab.research.google.com](https://colab.research.google.com)\n",
        "\n",
        "2. Copy and paste the entire code block below into a single cell.\n",
        "\n",
        "3. Run the cell (Shift + Enter).\n",
        "   Wait about **30–60 seconds** until you see a link like:\n",
        "\n",
        "   ```\n",
        "   🌍 Streamlit app is live: https://example-xyz.trycloudflare.com\n",
        "   ```\n",
        "\n",
        "   The app should open automatically in a new tab — if not, just click the link.\n",
        "\n",
        "### ⚙️ Notes\n",
        "\n",
        "* ⏳ **Runtime:** Keep the Colab session active — closing the tab or timing out will stop the app.\n",
        "* 🌩 **Cloudflare tunnel** is temporary — each time you restart, a new URL is generated.\n",
        "* 🔒 This setup doesn’t require a Cloudflare account, but for long-term hosting you can create a named tunnel.\n",
        "* 🧠 Works best in **Chrome** or **Edge** (some popup blockers may prevent auto-tab opening).\n"
      ],
      "metadata": {
        "id": "lDWkDO0K1Dzx"
      }
    },
    {
      "cell_type": "code",
      "execution_count": null,
      "metadata": {
        "id": "LPmhdOqe0_tG"
      },
      "outputs": [],
      "source": [
        "!apt-get -qq install cloudflared\n",
        "!pip install -q streamlit\n",
        "\n",
        "# Clean up previous clone if exists\n",
        "!rm -rf CaSR-v3.1-downloader\n",
        "!git clone https://github.com/rarabzad/CaSR-v3.1-downloader.git\n",
        "%cd CaSR-v3.1-downloader\n",
        "!pip install -q -r requirements.txt\n",
        "\n",
        "import re, subprocess, threading, time, webbrowser\n",
        "from IPython.display import display, HTML\n",
        "\n",
        "public_url = None\n",
        "\n",
        "def run_cloudflared():\n",
        "    global public_url\n",
        "    proc = subprocess.Popen(\n",
        "        [\"cloudflared\", \"tunnel\", \"--url\", \"http://localhost:8501\", \"--no-autoupdate\"],\n",
        "        stdout=subprocess.PIPE, stderr=subprocess.STDOUT, text=True\n",
        "    )\n",
        "    for line in proc.stdout:\n",
        "        # Updated regex that matches both new and old outputs\n",
        "        match = re.search(r\"(https://[0-9a-zA-Z-]+\\.trycloudflare\\.com)\", line)\n",
        "        if match:\n",
        "            public_url = match.group(1)\n",
        "            display(HTML(f\"<h3>🌍 Streamlit app is live: \"\n",
        "                         f\"<a href='{public_url}' target='_blank'>{public_url}</a></h3>\"))\n",
        "            webbrowser.open_new_tab(public_url)\n",
        "            break\n",
        "        print(line, end=\"\")\n",
        "\n",
        "# Start Cloudflare tunnel in background\n",
        "threading.Thread(target=run_cloudflared, daemon=True).start()\n",
        "time.sleep(5)\n",
        "\n",
        "# Start Streamlit app\n",
        "!streamlit run app.py --server.port 8501\n",
        "from IPython.display import Javascript\n",
        "if public_url:\n",
        "    display(HTML(f\"<h3>✅ App is live: <a href='{public_url}' target='_blank'>{public_url}</a></h3>\"))\n",
        "    display(Javascript(f\"window.open('{public_url}');\"))\n",
        "else:\n",
        "    print(\"No Cloudflare URL detected yet — wait a few seconds.\")"
      ]
    }
  ]
}
