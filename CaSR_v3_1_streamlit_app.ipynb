{
  "nbformat": 4,
  "nbformat_minor": 0,
  "metadata": {
    "colab": {
      "provenance": [],
      "authorship_tag": "ABX9TyM8IGAwSxEyH57vS1ylLVg7",
      "include_colab_link": true
    },
    "kernelspec": {
      "name": "python3",
      "display_name": "Python 3"
    },
    "language_info": {
      "name": "python"
    }
  },
  "cells": [
    {
      "cell_type": "markdown",
      "metadata": {
        "id": "view-in-github",
        "colab_type": "text"
      },
      "source": [
        "<a href=\"https://colab.research.google.com/github/rarabzad/CaSR-v3.1-downloader/blob/main/CaSR_v3_1_streamlit_app.ipynb\" target=\"_parent\"><img src=\"https://colab.research.google.com/assets/colab-badge.svg\" alt=\"Open In Colab\"/></a>"
      ]
    },
    {
      "cell_type": "markdown",
      "source": [
        "\n",
        "## 🚀 Run the CaSR v3.1 Downloader Streamlit App on Google Colab\n",
        "\n",
        "You can easily run the **CaSR v3.1 Downloader** Streamlit web app directly from **Google Colab**, without needing to host it locally or deploy it permanently.\n",
        "\n",
        "This setup uses **Cloudflare Tunnel** to expose your Colab environment securely to the web, allowing you to access your Streamlit app in a browser tab.\n",
        "\n",
        "---\n",
        "\n",
        "1. Open a new notebook in **Google Colab**:\n",
        "   👉 [https://colab.research.google.com](https://colab.research.google.com)\n",
        "\n",
        "2. Copy and paste the entire code block below into a single cell.\n",
        "\n",
        "3. Run the cell (Shift + Enter).\n",
        "   Wait about **30–60 seconds** until you see a link like:\n",
        "\n",
        "   ```\n",
        "   🌍 Streamlit app is live: https://example-xyz.trycloudflare.com\n",
        "   ```\n",
        "\n",
        "   The app should open automatically in a new tab — if not, just click the link.\n",
        "\n",
        "### ⚙️ Notes\n",
        "\n",
        "* ⏳ **Runtime:** Keep the Colab session active — closing the tab or timing out will stop the app.\n",
        "* 🌩 **Cloudflare tunnel** is temporary — each time you restart, a new URL is generated.\n",
        "* 🔒 This setup doesn’t require a Cloudflare account, but for long-term hosting you can create a named tunnel.\n",
        "* 🧠 Works best in **Chrome** or **Edge** (some popup blockers may prevent auto-tab opening).\n"
      ],
      "metadata": {
        "id": "pOB2--x40ZNB"
      }
    },
    {
      "cell_type": "code",
      "source": [
        "!apt-get -qq install cloudflared\n",
        "!pip install -q streamlit\n",
        "\n",
        "# Clean up previous clone if exists\n",
        "!rm -rf CaSR-v3.1-downloader\n",
        "!git clone https://github.com/rarabzad/CaSR-v3.1-downloader.git\n",
        "%cd CaSR-v3.1-downloader\n",
        "!pip install -q -r requirements.txt\n",
        "\n",
        "import re, subprocess, threading, time, webbrowser\n",
        "from IPython.display import display, HTML\n",
        "\n",
        "public_url = None\n",
        "\n",
        "def run_cloudflared():\n",
        "    global public_url\n",
        "    proc = subprocess.Popen(\n",
        "        [\"cloudflared\", \"tunnel\", \"--url\", \"http://localhost:8501\", \"--no-autoupdate\"],\n",
        "        stdout=subprocess.PIPE, stderr=subprocess.STDOUT, text=True\n",
        "    )\n",
        "    for line in proc.stdout:\n",
        "        # Updated regex that matches both new and old outputs\n",
        "        match = re.search(r\"(https://[0-9a-zA-Z-]+\\.trycloudflare\\.com)\", line)\n",
        "        if match:\n",
        "            public_url = match.group(1)\n",
        "            display(HTML(f\"<h3>🌍 Streamlit app is live: \"\n",
        "                         f\"<a href='{public_url}' target='_blank'>{public_url}</a></h3>\"))\n",
        "            webbrowser.open_new_tab(public_url)\n",
        "            break\n",
        "        print(line, end=\"\")\n",
        "\n",
        "# Start Cloudflare tunnel in background\n",
        "threading.Thread(target=run_cloudflared, daemon=True).start()\n",
        "time.sleep(5)\n",
        "\n",
        "# Start Streamlit app\n",
        "!streamlit run app.py --server.port 8501\n",
        "from IPython.display import Javascript\n",
        "if public_url:\n",
        "    display(HTML(f\"<h3>✅ App is live: <a href='{public_url}' target='_blank'>{public_url}</a></h3>\"))\n",
        "    display(Javascript(f\"window.open('{public_url}');\"))\n",
        "else:\n",
        "    print(\"No Cloudflare URL detected yet — wait a few seconds.\")"
      ],
      "metadata": {
        "colab": {
          "base_uri": "https://localhost:8080/",
          "height": 498
        },
        "id": "EVtXbX71yYeX",
        "outputId": "3fea886e-7d37-4c82-fcfa-1b243dbcf469"
      },
      "execution_count": null,
      "outputs": [
        {
          "output_type": "stream",
          "name": "stdout",
          "text": [
            "Cloning into 'CaSR-v3.1-downloader'...\n",
            "remote: Enumerating objects: 143, done.\u001b[K\n",
            "remote: Counting objects: 100% (143/143), done.\u001b[K\n",
            "remote: Compressing objects: 100% (141/141), done.\u001b[K\n",
            "remote: Total 143 (delta 73), reused 0 (delta 0), pack-reused 0 (from 0)\u001b[K\n",
            "Receiving objects: 100% (143/143), 19.68 MiB | 21.37 MiB/s, done.\n",
            "Resolving deltas: 100% (73/73), done.\n",
            "/content/CaSR-v3.1-downloader/CaSR-v3.1-downloader\n",
            "2025-10-21T17:39:34Z INF Thank you for trying Cloudflare Tunnel. Doing so, without a Cloudflare account, is a quick way to experiment and try it out. However, be aware that these account-less Tunnels have no uptime guarantee, are subject to the Cloudflare Online Services Terms of Use (https://www.cloudflare.com/website-terms/), and Cloudflare reserves the right to investigate your use of Tunnels for violations of such terms. If you intend to use Tunnels in production you should use a pre-created named tunnel by following: https://developers.cloudflare.com/cloudflare-one/connections/connect-apps\n",
            "2025-10-21T17:39:34Z INF Requesting new quick Tunnel on trycloudflare.com...\n",
            "2025-10-21T17:39:38Z INF +--------------------------------------------------------------------------------------------+\n",
            "2025-10-21T17:39:38Z INF |  Your quick Tunnel has been created! Visit it at (it may take some time to be reachable):  |\n"
          ]
        },
        {
          "output_type": "display_data",
          "data": {
            "text/plain": [
              "<IPython.core.display.HTML object>"
            ],
            "text/html": [
              "<h3>🌍 Streamlit app is live: <a href='https://dock-lawsuit-ray-large.trycloudflare.com' target='_blank'>https://dock-lawsuit-ray-large.trycloudflare.com</a></h3>"
            ]
          },
          "metadata": {}
        },
        {
          "output_type": "stream",
          "name": "stdout",
          "text": [
            "\n",
            "Collecting usage statistics. To deactivate, set browser.gatherUsageStats to false.\n",
            "\u001b[0m\n",
            "\u001b[0m\n",
            "\u001b[34m\u001b[1m  You can now view your Streamlit app in your browser.\u001b[0m\n",
            "\u001b[0m\n",
            "\u001b[34m  Local URL: \u001b[0m\u001b[1mhttp://localhost:8501\u001b[0m\n",
            "\u001b[34m  Network URL: \u001b[0m\u001b[1mhttp://172.28.0.12:8501\u001b[0m\n",
            "\u001b[34m  External URL: \u001b[0m\u001b[1mhttp://34.6.92.36:8501\u001b[0m\n",
            "\u001b[0m\n"
          ]
        }
      ]
    }
  ]
}